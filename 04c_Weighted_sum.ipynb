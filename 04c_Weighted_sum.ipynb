{
 "cells": [
  {
   "cell_type": "code",
   "execution_count": 1,
   "id": "fe70fbea-8490-4e3d-9610-8df9bf979597",
   "metadata": {},
   "outputs": [
    {
     "name": "stdout",
     "output_type": "stream",
     "text": [
      "'02_d_m_Players_stats_comp_wscore.csv' 파일로 저장 완료 (소수점 3자리 반올림 포함).\n"
     ]
    }
   ],
   "source": [
    "import pandas as pd\n",
    "\n",
    "df = pd.read_csv(\"01_d_m_Players_stats_comp.csv\")\n",
    "\n",
    "weights = {\n",
    "    'pts_per_game': 0.20,\n",
    "    'ast_per_game': 0.10,\n",
    "    'stl_per_game': 0.08,\n",
    "    'blk_per_game': 0.07,\n",
    "    'fg_percent': 0.07,\n",
    "    'x3p_percent': 0.06,\n",
    "    'trb_per_game': 0.07,\n",
    "    'orb_per_game': 0.03,\n",
    "    'drb_per_game': 0.03,\n",
    "    'fg_per_game': 0.05,\n",
    "    'mp_per_game': 0.03,\n",
    "    'tov_per_game': -0.06,\n",
    "    'pf_per_game': -0.02\n",
    "}\n",
    "\n",
    "df.fillna(0, inplace=True)\n",
    "\n",
    "df['Score_with_stats'] = sum(df[stat] * weight for stat, weight in weights.items())\n",
    "\n",
    "df['Score_with_stats'] = df['Score_with_stats'].round(3)\n",
    "\n",
    "df.to_csv(\"02_d_m_Players_stats_comp_wscore.csv\", index=False)\n",
    "\n",
    "print(\"'02_d_m_Players_stats_comp_wscore.csv' 파일로 저장 완료 (소수점 3자리 반올림 포함).\")\n"
   ]
  }
 ],
 "metadata": {
  "kernelspec": {
   "display_name": "Python 3 (ipykernel)",
   "language": "python",
   "name": "python3"
  },
  "language_info": {
   "codemirror_mode": {
    "name": "ipython",
    "version": 3
   },
   "file_extension": ".py",
   "mimetype": "text/x-python",
   "name": "python",
   "nbconvert_exporter": "python",
   "pygments_lexer": "ipython3",
   "version": "3.12.7"
  }
 },
 "nbformat": 4,
 "nbformat_minor": 5
}
