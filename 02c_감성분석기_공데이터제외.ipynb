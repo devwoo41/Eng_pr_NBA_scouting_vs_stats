{
 "cells": [
  {
   "cell_type": "code",
   "execution_count": 2,
   "id": "5e5d9860-ce36-45f2-90aa-6ffaa7b7a93e",
   "metadata": {},
   "outputs": [
    {
     "name": "stdout",
     "output_type": "stream",
     "text": [
      "새 파일이 성공적으로 저장되었습니다.\n"
     ]
    }
   ],
   "source": [
    "import pandas as pd\n",
    "\n",
    "df = pd.read_csv(\"02_d_m_Scouting_Report_with_Sentiment.csv\")\n",
    "\n",
    "filtered_df = df[~(\n",
    "    (df['Sentiment Score'] == 0) &\n",
    "    (df['Scouting Report'].isnull() | (df['Scouting Report'].str.strip() == ''))\n",
    ")]\n",
    "\n",
    "filtered_df.to_csv(\"03_d_m_Scouting_report_with_Sentimet_comp.csv\", index=False)\n",
    "\n",
    "print(\"새 파일이 성공적으로 저장되었습니다.\")\n"
   ]
  }
 ],
 "metadata": {
  "kernelspec": {
   "display_name": "Python 3 (ipykernel)",
   "language": "python",
   "name": "python3"
  },
  "language_info": {
   "codemirror_mode": {
    "name": "ipython",
    "version": 3
   },
   "file_extension": ".py",
   "mimetype": "text/x-python",
   "name": "python",
   "nbconvert_exporter": "python",
   "pygments_lexer": "ipython3",
   "version": "3.12.7"
  }
 },
 "nbformat": 4,
 "nbformat_minor": 5
}
