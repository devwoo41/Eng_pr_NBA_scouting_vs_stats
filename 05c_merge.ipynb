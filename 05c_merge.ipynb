{
 "cells": [
  {
   "cell_type": "code",
   "execution_count": 1,
   "id": "d3566247-a013-4704-b9a2-cc3afc4c4445",
   "metadata": {},
   "outputs": [
    {
     "name": "stdout",
     "output_type": "stream",
     "text": [
      "병합 완료! '04_d_m_senscore_and_statscore.csv'로 저장되었습니다.\n"
     ]
    }
   ],
   "source": [
    "import pandas as pd\n",
    "\n",
    "scouting_df = pd.read_csv(\"03_d_m_Scouting_report_with_Sentimet_comp.csv\")\n",
    "stats_df = pd.read_csv(\"02_d_m_Players_stats_comp_wscore.csv\")\n",
    "\n",
    "scouting_df = scouting_df[['Players', 'Sentiment Score']]\n",
    "stats_df = stats_df[['player', 'Score_with_stats']]\n",
    "\n",
    "def normalize_name(name):\n",
    "    return str(name).strip().lower()\n",
    "\n",
    "scouting_df['normalized_name'] = scouting_df['Players'].apply(normalize_name)\n",
    "stats_df['normalized_name'] = stats_df['player'].apply(normalize_name)\n",
    "\n",
    "merged_df = pd.merge(scouting_df, stats_df, on='normalized_name', how='inner')\n",
    "\n",
    "final_df = merged_df[['Players', 'Sentiment Score', 'Score_with_stats']]\n",
    "\n",
    "final_df.to_csv(\"04_d_m_senscore_and_statscore.csv\", index=False)\n",
    "\n",
    "print(\"병합 완료! '04_d_m_senscore_and_statscore.csv'로 저장되었습니다.\")\n"
   ]
  }
 ],
 "metadata": {
  "kernelspec": {
   "display_name": "Python 3 (ipykernel)",
   "language": "python",
   "name": "python3"
  },
  "language_info": {
   "codemirror_mode": {
    "name": "ipython",
    "version": 3
   },
   "file_extension": ".py",
   "mimetype": "text/x-python",
   "name": "python",
   "nbconvert_exporter": "python",
   "pygments_lexer": "ipython3",
   "version": "3.12.7"
  }
 },
 "nbformat": 4,
 "nbformat_minor": 5
}
