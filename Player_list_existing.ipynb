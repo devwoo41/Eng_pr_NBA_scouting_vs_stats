{
 "cells": [
  {
   "cell_type": "code",
   "execution_count": 4,
   "id": "089f92a9-0bab-4801-b21d-144fd1b47e20",
   "metadata": {},
   "outputs": [
    {
     "name": "stdout",
     "output_type": "stream",
     "text": [
      "['aaron gordon', 'aaron holiday', 'aaron nesmith', 'al horford', 'alec burks', 'alex caruso', 'alex len', 'alperen sengun', 'amen thompson', 'amir coffey', 'andre drummond', 'andre jackson jr.', 'andrew wiggins', 'anfernee simons', 'anthony black', 'anthony davis', 'anthony edwards', 'ausar thompson', 'ayo dosunmu', 'bam adebayo', 'ben sheppard', 'ben simmons', 'bennedict mathurin', 'bilal coulibaly', 'bismack biyombo', 'blake wesley', 'bobby portis', 'bogdan bogdanovic', 'bol bol', 'bones hyland', 'bradley beal', 'brandon clarke', 'brandon ingram', 'brandon miller', 'brice sensabaugh', 'brook lopez', 'bruce brown', 'buddy hield', 'cj mccollum', 'cade cunningham', 'caleb martin', 'cam reddish', 'cam thomas', 'cameron johnson', 'caris levert', 'cason wallace', 'chet holmgren', 'chris boucher', 'chris paul', 'christian braun', 'chuma okeke', 'clint capela', 'coby white', 'cody martin', 'colby jones', 'cole anthony', 'colin castleton', 'collin sexton', 'cory joseph', 'dangelo russell', 'daquan jeffries', 'dalen terry', 'damian lillard', 'daniel gafford', 'daniel theis', 'dante exum', 'dario saric', 'darius garland', 'david roddy', 'deaaron fox', 'deandre hunter', 'deanthony melton', 'deandre jordan', 'demar derozan', 'dean wade', 'deandre ayton', 'dejounte murray', 'delon wright', 'deni avdija', 'dennis schroeder', 'derrick white', 'desmond bane', 'devin booker', 'devin vassell', 'dillon brooks', 'domantas sabonis', 'donovan mitchell', 'donte divincenzo', 'dorian finney-smith', 'draymond green', 'drew eubanks', 'duncan robinson', 'dwight powell', 'dyson daniels', 'elfrid payton', 'eric gordon', 'evan mobley', 'fred vanvleet', 'gabe vincent', 'garrison mathews', 'gary harris', 'gary trent jr.', 'georges niang', 'giannis antetokounmpo', 'goga bitadze', 'gradey dick', 'grant williams', 'grayson allen', 'harrison barnes', 'haywood highsmith', 'immanuel quickley', 'isaac okoro', 'isaiah hartenstein', 'isaiah joe', 'isaiah stewart', 'ivica zubac', 'ja morant', 'jaden hardy', 'jaden ivey', 'jaden mcdaniels', 'jae crowder', 'jaesean tate', 'jake laravia', 'jakob poeltl', 'jalen brunson', 'jalen duren', 'jalen green', 'jalen johnson', 'jalen pickett', 'jalen smith', 'jalen williams', 'jalen wilson', 'jamal cain', 'jamal murray', 'james harden', 'jarace walker', 'jaren jackson jr.', 'jarred vanderbilt', 'jarrett allen', 'javonte green', 'jaxson hayes', 'jaylen brown', 'jaylen nowell', 'jayson tatum', 'jeff green', 'jerami grant', 'jeremy sochan', 'jett howard', 'jimmy butler', 'jock landale', 'joel embiid', 'john collins', 'john konchar', 'jonas valanciunas', 'jonathan isaac', 'jonathan kuminga', 'jordan clarkson', 'jordan hawkins', 'jordan miller', 'jordan poole', 'jose alvarado', 'josh green', 'josh hart', 'josh okogie', 'josh richardson', 'jrue holiday', 'julian strawther', 'julius randle', 'jusuf nurkic', 'kj martin', 'kai jones', 'karl-anthony towns', 'kawhi leonard', 'keegan murray', 'keldon johnson', 'kelly olynyk', 'kenrich williams', 'kentavious caldwell-pope', 'kessler edwards', 'kevin durant', 'kevin huerter', 'kevin love', 'kevon looney', 'khris middleton', 'killian hayes', 'klay thompson', 'kobe bufkin', 'kris dunn', 'kris murray', 'kristaps porzingis', 'kyle anderson', 'kyle kuzma', 'kyle lowry', 'kyrie irving', 'lamelo ball', 'landry shamet', 'larry nance jr.', 'lauri markkanen', 'lebron james', 'lonzo ball', 'luguentz dort', 'luka doncic', 'luke kennard', 'luke kornet', 'malachi flynn', 'malcolm brogdon', 'malik beasley', 'malik monk', 'marcus sasser', 'marcus smart', 'mark williams', 'markieff morris', 'mason plumlee', 'matisse thybulle', 'max strus', 'maxi kleber', 'maxwell lewis', 'mikal bridges', 'mike conley', 'miles bridges', 'mitchell robinson', 'mo bamba', 'monte morris', 'moritz wagner', 'moses brown', 'moses moody', 'mouhamed gueye', 'moussa diabate', 'myles turner', 'naji marshall', 'naz reid', 'nick richards', 'nickeil alexander-walker', 'nicolas batum', 'nikola jokic', 'nikola jovic', 'nikola vucevic', 'norman powell', 'og anunoby', 'obi toppin', 'ochai agbaji', 'olivier-maxence prosper', 'onyeka okongwu', 'orlando robinson', 'oshae brissett', 'ousmane dieng', 'paolo banchero', 'pascal siakam', 'pat connaughton', 'patrick williams', 'paul george', 'payton pritchard', 'peyton watson', 'precious achiuwa', 'rj barrett', 'reggie jackson', 'richaun holmes', 'robert williams', 'royce oneale', 'rudy gobert', 'rui hachimura', 'russell westbrook', 'ryan rollins', 'sam hauser', 'sam merrill', 'scoot henderson', 'scottie barnes', 'seth curry', 'shaedon sharpe', 'shai gilgeous-alexander', 'shake milton', 'spencer dinwiddie', 'stephen curry', 'steven adams', 'taj gibson', 'talen horton-tucker', 'tari eason', 'taurean prince', 'taylor hendricks', 'terance mann', 'terry rozier', 'thomas bryant', 'tim hardaway jr.', 'tobias harris', 'torrey craig', 'toumani camara', 'trae young', 'trayce jackson-davis', 'tre jones', 'trevelin queen', 'trey lyles', 'ty jerome', 'tyler herro', 'tyrese haliburton', 'tyrese martin', 'tyrese maxey', 'tyus jones', 'vasilije micic', 'victor wembanyama', 'vit krejci', 'walker kessler', 'zach collins', 'zach lavine', 'zeke nnaji', 'zion williamson']\n"
     ]
    }
   ],
   "source": [
    "import pandas as pd\n",
    "\n",
    "df = pd.read_csv(\"02_d_m_Scouting_Report_with_Sentiment.csv\")  \n",
    "non_empty_players = df[df['Scouting Report'].notnull() & (df['Scouting Report'].str.strip() != '')]\n",
    "\n",
    "player_list = non_empty_players['Players'].tolist()\n",
    "print(player_list)    "
   ]
  }
 ],
 "metadata": {
  "kernelspec": {
   "display_name": "Python 3 (ipykernel)",
   "language": "python",
   "name": "python3"
  },
  "language_info": {
   "codemirror_mode": {
    "name": "ipython",
    "version": 3
   },
   "file_extension": ".py",
   "mimetype": "text/x-python",
   "name": "python",
   "nbconvert_exporter": "python",
   "pygments_lexer": "ipython3",
   "version": "3.12.7"
  }
 },
 "nbformat": 4,
 "nbformat_minor": 5
}
