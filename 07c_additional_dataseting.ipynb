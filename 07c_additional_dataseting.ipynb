{
 "cells": [
  {
   "cell_type": "code",
   "execution_count": 1,
   "id": "2948eb97-c8da-4bc7-92bb-325facd5ae6b",
   "metadata": {},
   "outputs": [
    {
     "name": "stdout",
     "output_type": "stream",
     "text": [
      "✅ '05_d_m_additional_analystics.csv' 파일 저장 완료\n"
     ]
    }
   ],
   "source": [
    "import pandas as pd\n",
    "\n",
    "base_df = pd.read_csv(\"04_d_m_senscore_and_statscore.csv\")\n",
    "stats_df = pd.read_csv(\"02_d_m_Players_stats_comp_wscore.csv\")\n",
    "\n",
    "def normalize(name):\n",
    "    return str(name).strip().lower()\n",
    "\n",
    "base_df['normalized_name'] = base_df['Players'].apply(normalize)\n",
    "stats_df['normalized_name'] = stats_df['player'].apply(normalize)\n",
    "\n",
    "selected_stats = stats_df[['normalized_name', 'ast_per_game', 'stl_per_game', 'tov_per_game']]\n",
    "\n",
    "merged_df = pd.merge(base_df, selected_stats, on='normalized_name', how='inner')\n",
    "\n",
    "final_df = merged_df[['Players', 'Sentiment Score', 'Score_with_stats', 'ast_per_game', 'stl_per_game', 'tov_per_game']]\n",
    "\n",
    "final_df.to_csv(\"05_d_m_additional_analystics.csv\", index=False)\n",
    "\n",
    "print(\"✅ '05_d_m_additional_analystics.csv' 파일 저장 완료\")\n"
   ]
  }
 ],
 "metadata": {
  "kernelspec": {
   "display_name": "Python 3 (ipykernel)",
   "language": "python",
   "name": "python3"
  },
  "language_info": {
   "codemirror_mode": {
    "name": "ipython",
    "version": 3
   },
   "file_extension": ".py",
   "mimetype": "text/x-python",
   "name": "python",
   "nbconvert_exporter": "python",
   "pygments_lexer": "ipython3",
   "version": "3.12.7"
  }
 },
 "nbformat": 4,
 "nbformat_minor": 5
}
