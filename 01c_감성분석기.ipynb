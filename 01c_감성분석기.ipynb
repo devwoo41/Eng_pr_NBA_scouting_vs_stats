{
 "cells": [
  {
   "cell_type": "code",
   "execution_count": 1,
   "id": "8e375732-1ccb-4dab-b913-ab607a648dab",
   "metadata": {},
   "outputs": [
    {
     "name": "stderr",
     "output_type": "stream",
     "text": [
      "[nltk_data] Downloading package vader_lexicon to\n",
      "[nltk_data]     C:\\Users\\young\\AppData\\Roaming\\nltk_data...\n",
      "[nltk_data]   Package vader_lexicon is already up-to-date!\n"
     ]
    },
    {
     "name": "stdout",
     "output_type": "stream",
     "text": [
      "             Players  Sentiment Score\n",
      "286     lebron james           0.9880\n",
      "68        chris paul           0.9845\n",
      "255   keldon johnson           0.9821\n",
      "170  jaden mcdaniels           0.9798\n",
      "393    stephen curry           0.9753\n"
     ]
    }
   ],
   "source": [
    "import pandas as pd\n",
    "from nltk.sentiment.vader import SentimentIntensityAnalyzer\n",
    "import nltk\n",
    "\n",
    "nltk.download('vader_lexicon')\n",
    "\n",
    "df = pd.read_csv(\"01d_Scouting Report(중복제거).csv\")\n",
    "\n",
    "sid = SentimentIntensityAnalyzer()\n",
    "\n",
    "def get_sentiment_scores(text):\n",
    "    return sid.polarity_scores(str(text))['compound']\n",
    "\n",
    "df['Sentiment Score'] = df['Scouting Report'].apply(get_sentiment_scores)\n",
    "\n",
    "df_sorted = df.sort_values(by='Sentiment Score', ascending=False)\n",
    "print(df_sorted[['Players', 'Sentiment Score']].head())\n",
    "\n",
    "df.to_csv(\"02_d_m_Scouting_Report_with_Sentiment.csv\", index=False)\n"
   ]
  }
 ],
 "metadata": {
  "kernelspec": {
   "display_name": "Python 3 (ipykernel)",
   "language": "python",
   "name": "python3"
  },
  "language_info": {
   "codemirror_mode": {
    "name": "ipython",
    "version": 3
   },
   "file_extension": ".py",
   "mimetype": "text/x-python",
   "name": "python",
   "nbconvert_exporter": "python",
   "pygments_lexer": "ipython3",
   "version": "3.12.7"
  }
 },
 "nbformat": 4,
 "nbformat_minor": 5
}
