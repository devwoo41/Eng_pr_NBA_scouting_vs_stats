{
 "cells": [
  {
   "cell_type": "code",
   "execution_count": null,
   "id": "29ffbb89-b8dd-42ec-8f69-6a4a9166d378",
   "metadata": {},
   "outputs": [],
   "source": [
    "import pandas as pd\n",
    "import json\n",
    "\n",
    "df = pd.read_csv(\"06_d_m_sentiment_tov.csv\")\n",
    "\n",
    "output_path = \"sentiment_tov_finetune.jsonl\"\n",
    "\n",
    "with open(output_path, \"w\", encoding=\"utf-8\") as f:\n",
    "    for _, row in df.iterrows():\n",
    "        prompt = f\"이 선수는 경기당 {row['tov_per_game']:.1f}개의 턴오버를 기록했습니다. 감성 점수를 예측하세요.\"\n",
    "        completion = str(round(row['Sentiment Score'], 3))  \n",
    "        json_record = {\"prompt\": prompt, \"completion\": completion}\n",
    "        f.write(json.dumps(json_record, ensure_ascii=False) + \"\\n\")\n",
    "\n",
    "print(\"LLM 파인튜닝용 JSONL 파일 생성 완료: sentiment_tov_finetune.jsonl\")\n"
   ]
  }
 ],
 "metadata": {
  "kernelspec": {
   "display_name": "Python 3 (ipykernel)",
   "language": "python",
   "name": "python3"
  },
  "language_info": {
   "codemirror_mode": {
    "name": "ipython",
    "version": 3
   },
   "file_extension": ".py",
   "mimetype": "text/x-python",
   "name": "python",
   "nbconvert_exporter": "python",
   "pygments_lexer": "ipython3",
   "version": "3.12.7"
  }
 },
 "nbformat": 4,
 "nbformat_minor": 5
}
