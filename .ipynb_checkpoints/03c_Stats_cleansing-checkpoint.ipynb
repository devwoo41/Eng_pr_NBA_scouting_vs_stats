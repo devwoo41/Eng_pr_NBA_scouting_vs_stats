{
 "cells": [
  {
   "cell_type": "code",
   "execution_count": 1,
   "id": "f5b94a4b-337c-4385-9b63-bfe606d16faf",
   "metadata": {},
   "outputs": [
    {
     "name": "stdout",
     "output_type": "stream",
     "text": [
      "'01_d_m_Players_stats_comp.csv' 파일 생성 완료=> 이름 포맷까지 감안해서 필터링했습니다.\n"
     ]
    }
   ],
   "source": [
    "import pandas as pd\n",
    "\n",
    "scouting_df = pd.read_csv(\"03_d_m_Scouting_Report_with_Sentimet_comp.csv\")\n",
    "stats_df = pd.read_csv(\"01d_Players_stats.csv\")\n",
    "\n",
    "def normalize_name(name):\n",
    "    name = str(name).strip().lower()\n",
    "    if ',' in name:  \n",
    "        parts = [part.strip() for part in name.split(',')]\n",
    "        return f\"{parts[1]} {parts[0]}\"\n",
    "    return name\n",
    "\n",
    "scouting_df['normalized_name'] = scouting_df['Players'].apply(normalize_name)\n",
    "stats_df['normalized_name'] = stats_df['player'].apply(normalize_name)\n",
    "\n",
    "filtered_stats_df = stats_df[stats_df['normalized_name'].isin(scouting_df['normalized_name'])]\n",
    "\n",
    "filtered_stats_df.to_csv(\"01_d_m_Players_stats_comp.csv\", index=False)\n",
    "\n",
    "print(\"'01_d_m_Players_stats_comp.csv' 파일 생성 완료=> 이름 포맷까지 감안해서 필터링했습니다.\")\n"
   ]
  }
 ],
 "metadata": {
  "kernelspec": {
   "display_name": "Python 3 (ipykernel)",
   "language": "python",
   "name": "python3"
  },
  "language_info": {
   "codemirror_mode": {
    "name": "ipython",
    "version": 3
   },
   "file_extension": ".py",
   "mimetype": "text/x-python",
   "name": "python",
   "nbconvert_exporter": "python",
   "pygments_lexer": "ipython3",
   "version": "3.12.7"
  }
 },
 "nbformat": 4,
 "nbformat_minor": 5
}
