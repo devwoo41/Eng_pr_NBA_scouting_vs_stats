{
 "cells": [
  {
   "cell_type": "code",
   "execution_count": 1,
   "id": "24953647-201c-40c6-bca7-adbbada4ce15",
   "metadata": {},
   "outputs": [
    {
     "name": "stdout",
     "output_type": "stream",
     "text": [
      "'06_d_m_sentiment_tov.csv' 파일이 생성되었습니다.\n"
     ]
    }
   ],
   "source": [
    "import pandas as pd\n",
    "\n",
    "df = pd.read_csv(\"05_d_m_additional_analystics.csv\")\n",
    "\n",
    "sentiment_tov_df = df[['Players', 'Sentiment Score', 'tov_per_game']]\n",
    "\n",
    "sentiment_tov_df.to_csv(\"06_d_m_sentiment_tov.csv\", index=False)\n",
    "\n",
    "print(\"'06_d_m_sentiment_tov.csv' 파일이 생성되었습니다.\")\n"
   ]
  }
 ],
 "metadata": {
  "kernelspec": {
   "display_name": "Python 3 (ipykernel)",
   "language": "python",
   "name": "python3"
  },
  "language_info": {
   "codemirror_mode": {
    "name": "ipython",
    "version": 3
   },
   "file_extension": ".py",
   "mimetype": "text/x-python",
   "name": "python",
   "nbconvert_exporter": "python",
   "pygments_lexer": "ipython3",
   "version": "3.12.7"
  }
 },
 "nbformat": 4,
 "nbformat_minor": 5
}
